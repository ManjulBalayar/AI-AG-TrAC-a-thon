{
 "cells": [
  {
   "cell_type": "code",
   "execution_count": 4,
   "metadata": {},
   "outputs": [],
   "source": [
    "import pandas as pd\n",
    "from globals import  *\n",
    "from sklearn.model_selection import train_test_split\n",
    "from sklearn.linear_model import LinearRegression\n",
    "from sklearn.metrics import mean_squared_error"
   ]
  },
  {
   "cell_type": "code",
   "execution_count": 7,
   "metadata": {},
   "outputs": [],
   "source": [
    "df = pd.read_csv(FILE_ROOT + \"cleaned_data.csv\")\n",
    "# Separate features (X) and target variables (y) from the dataset\n",
    "X = df[['Year', 'Month', 'Day', 'MaxT', 'MinT', 'AvgT', 'WindSpeed', 'Humidity', 'Precipitation']]\n",
    "y_rainfall = df['Rainfall']\n",
    "y_extreme_rainfall = df['ExtremeRainfall']"
   ]
  },
  {
   "cell_type": "code",
   "execution_count": 8,
   "metadata": {},
   "outputs": [],
   "source": [
    "# Split the dataset into training and validation sets\n",
    "X_train, X_val, y_train_rf, y_val_rf, y_train_erf, y_val_erf = train_test_split(X, y_rainfall, y_extreme_rainfall, test_size=0.2, random_state=42)\n",
    "\n",
    "# Create a single regression model\n",
    "model = LinearRegression()\n",
    "\n",
    "# Train the model on the training data\n",
    "model.fit(X_train, y_train_rf)  # Training for rainfall prediction\n",
    "\n",
    "# Make predictions on the validation data for rainfall prediction\n",
    "predictions_rf = model.predict(X_val)"
   ]
  },
  {
   "cell_type": "code",
   "execution_count": 9,
   "metadata": {},
   "outputs": [
    {
     "name": "stdout",
     "output_type": "stream",
     "text": [
      "Rainfall Prediction Mean Squared Error: 0.08408603442366\n",
      "Extreme Rainfall Prediction Mean Squared Error: 0.5979948230562224\n"
     ]
    }
   ],
   "source": [
    "# Evaluate the model's performance for rainfall prediction\n",
    "mse_rf = mean_squared_error(y_val_rf, predictions_rf)\n",
    "print(\"Rainfall Prediction Mean Squared Error:\", mse_rf)\n",
    "\n",
    "# Make predictions on the validation data for extreme rainfall prediction\n",
    "predictions_erf = model.predict(X_val)\n",
    "\n",
    "# Evaluate the model's performance for extreme rainfall prediction\n",
    "mse_erf = mean_squared_error(y_val_erf, predictions_erf)\n",
    "print(\"Extreme Rainfall Prediction Mean Squared Error:\", mse_erf)"
   ]
  },
  {
   "cell_type": "code",
   "execution_count": null,
   "metadata": {},
   "outputs": [],
   "source": []
  }
 ],
 "metadata": {
  "kernelspec": {
   "display_name": "Python 3",
   "language": "python",
   "name": "python3"
  },
  "language_info": {
   "codemirror_mode": {
    "name": "ipython",
    "version": 3
   },
   "file_extension": ".py",
   "mimetype": "text/x-python",
   "name": "python",
   "nbconvert_exporter": "python",
   "pygments_lexer": "ipython3",
   "version": "3.12.0"
  }
 },
 "nbformat": 4,
 "nbformat_minor": 2
}
